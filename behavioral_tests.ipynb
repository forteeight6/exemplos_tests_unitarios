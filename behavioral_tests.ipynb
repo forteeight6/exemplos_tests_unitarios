{
 "cells": [
  {
   "cell_type": "code",
   "execution_count": 39,
   "id": "87a70dcb-6a28-4a8b-b545-57918b5cd45b",
   "metadata": {},
   "outputs": [],
   "source": [
    "# Praticando testes unitarios:\n",
    "\n",
    "def doesEverything(**kwargs):\n",
    "    # Refatorar utilizando o Pattern Match\n",
    "    try:\n",
    "        if kwargs['op1'] == 'A':\n",
    "            return 55\n",
    "    except:\n",
    "        pass\n",
    "    \n",
    "    try:\n",
    "        if kwargs['op2'] == 'B':\n",
    "            return 44\n",
    "    except:\n",
    "        pass"
   ]
  },
  {
   "cell_type": "code",
   "execution_count": 42,
   "id": "9e35eddc-3e00-4613-a37f-1d13263af054",
   "metadata": {},
   "outputs": [],
   "source": [
    "# Testando se kwargs['op2'] caso B está retornando 44\n",
    "def test_doesEverything_op2_B_44():\n",
    "    entry = 'B'\n",
    "    expect = 44\n",
    "    result = doesEverything(op2=entry)\n",
    "    \n",
    "    assert result == expect, 'erro!'\n",
    "    \n",
    "test_doesEverything_op2_B_44()"
   ]
  },
  {
   "cell_type": "code",
   "execution_count": 49,
   "id": "4a57c7cf-60ec-462d-a5e6-a848cb1b60d8",
   "metadata": {},
   "outputs": [],
   "source": [
    "# Testando se kwargs['op2'] caso B não seja 44\n",
    "def test_doesEverything_op2_B_not44():\n",
    "    entry='B'\n",
    "    expect = 40\n",
    "    result = doesEverything(op2=entry)\n",
    "    \n",
    "    assert result != expect, 'erro!'\n",
    "\n",
    "test_doesEverything_op2_B_not44()"
   ]
  },
  {
   "cell_type": "code",
   "execution_count": 24,
   "id": "d54d4acf-39aa-45ab-b8b6-26ee8e510490",
   "metadata": {},
   "outputs": [],
   "source": [
    "# Testando se kwargs['op1'] caso A está retornando 55\n",
    "def test_doesEverything_op1_A_55():\n",
    "    entry='A'\n",
    "    expect = 55\n",
    "    result = doesEverything(op1=entry)\n",
    "    \n",
    "    assert result == expect, 'erro!'\n",
    "\n",
    "test_doesEverything_op1_A_55()"
   ]
  },
  {
   "cell_type": "code",
   "execution_count": 27,
   "id": "901d6ccd-108b-4737-9e87-82ec31b7e388",
   "metadata": {},
   "outputs": [],
   "source": [
    "# Testando se kwargs['op1'] caso A nao esteja retornando 55\n",
    "def test_doesEverything_op1_A_not55():\n",
    "    entry='A'\n",
    "    expect = 50\n",
    "    result = doesEverything(op1=entry)\n",
    "    \n",
    "    assert result != expect\n",
    "    \n",
    "test_doesEverything_op1_A_not55()"
   ]
  }
 ],
 "metadata": {
  "kernelspec": {
   "display_name": "Python 3 (ipykernel)",
   "language": "python",
   "name": "python3"
  },
  "language_info": {
   "codemirror_mode": {
    "name": "ipython",
    "version": 3
   },
   "file_extension": ".py",
   "mimetype": "text/x-python",
   "name": "python",
   "nbconvert_exporter": "python",
   "pygments_lexer": "ipython3",
   "version": "3.10.2"
  }
 },
 "nbformat": 4,
 "nbformat_minor": 5
}
