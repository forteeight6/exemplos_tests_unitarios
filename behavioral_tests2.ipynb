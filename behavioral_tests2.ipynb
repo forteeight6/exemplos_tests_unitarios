{
 "cells": [
  {
   "cell_type": "code",
   "execution_count": 108,
   "id": "962983d1-4df4-4e17-b623-8e06e6c7e8e9",
   "metadata": {},
   "outputs": [],
   "source": [
    "from faker import Faker\n",
    "# Ideia crie um initiateSpy e altere os inputs para o faker fazer a inserção e definir quando parar.\n",
    "fake = Faker()"
   ]
  },
  {
   "cell_type": "code",
   "execution_count": 127,
   "id": "7d3e55c7-d691-439b-9862-af4b98b854aa",
   "metadata": {},
   "outputs": [],
   "source": []
  },
  {
   "cell_type": "code",
   "execution_count": 112,
   "id": "4861f180-7cd2-43d9-a765-f78ed36a6dc7",
   "metadata": {},
   "outputs": [],
   "source": [
    "from faker.providers import BaseProvider\n",
    "from random import choice\n",
    "\n",
    "class ageProvider(BaseProvider):\n",
    "    def age_generate(self):\n",
    "        return choice([12, 14, 17, 23, 35, 44])\n",
    "\n",
    "fake.add_provider(ageProvider)"
   ]
  },
  {
   "cell_type": "code",
   "execution_count": 116,
   "id": "2422887b-9bd1-4517-a15b-941aadf63532",
   "metadata": {},
   "outputs": [],
   "source": [
    "from faker.providers import DynamicProvider\n",
    "\n",
    "ageProvider2 = DynamicProvider(\n",
    "    provider_name=\"age_generate\",\n",
    "    elements=[12, 14, 17, 23, 35, 44]\n",
    ")\n",
    "\n",
    "fake.add_provider(ageProvider2)"
   ]
  },
  {
   "cell_type": "code",
   "execution_count": 121,
   "id": "72ec0c65-77db-4589-b56b-5ac5baca776b",
   "metadata": {},
   "outputs": [
    {
     "name": "stdout",
     "output_type": "stream",
     "text": [
      "([['Benjamin Jennings', 14, '323 Tran Wall Apt. 344, Patrickview, IL 29076'], ['Brandon Romero', 44, '953 James Keys Suite 239, Matthewside, PA 56969'], ['Brandon Martinez', 23, '319 Brooke Lights Apt. 524, Maryfort, NV 48062']], 3, 3)\n"
     ]
    }
   ],
   "source": [
    "def initiateClone():\n",
    "    forced_stop = fake.random_number(digits=1) + 1\n",
    "    # print(forced_stop, '\\n')\n",
    "    \n",
    "    cont = 0\n",
    "    lista = []\n",
    "    while True:\n",
    "        nome = fake.name()\n",
    "        idade = fake.age_generate()\n",
    "        endereco = fake.address().replace('\\n',', ')\n",
    "\n",
    "        lista.append([nome, idade, endereco])\n",
    "\n",
    "        if cont == forced_stop - 1:\n",
    "            break\n",
    "        cont += 1\n",
    "            \n",
    "    return lista, len(lista), forced_stop\n",
    "\n",
    "print(initiateClone())"
   ]
  },
  {
   "cell_type": "code",
   "execution_count": 122,
   "id": "cd69fc01-7657-4e1f-b539-a973ddfdcec5",
   "metadata": {},
   "outputs": [
    {
     "data": {
      "text/plain": [
       "'ok'"
      ]
     },
     "execution_count": 122,
     "metadata": {},
     "output_type": "execute_result"
    }
   ],
   "source": [
    "# Testando se a quantidade de itens na lista é igual a quantidade de valores requisitados\n",
    "# O numero de itens tem que ser igual o numero de requisições\n",
    "def test_initiate():\n",
    "    expect = lambda a, b: (a + b) % 2 == 0\n",
    "    _, result_list, result_forced_stop = initiateClone()\n",
    "    \n",
    "    assert expect(result_list, result_forced_stop)\n",
    "    return \"ok\"\n",
    "\n",
    "test_initiate()"
   ]
  },
  {
   "cell_type": "code",
   "execution_count": 124,
   "id": "186de280-84b6-4a65-a0fc-15fadc85cc4d",
   "metadata": {},
   "outputs": [
    {
     "data": {
      "text/plain": [
       "'ok'"
      ]
     },
     "execution_count": 124,
     "metadata": {},
     "output_type": "execute_result"
    }
   ],
   "source": [
    "# Testando se a quantidade de itens na lista é igual a quantidade de valores requisitados\n",
    "# O numero de itens tem que ser igual o numero de requisições\n",
    "def test_initiate():\n",
    "    expect = lambda a, b: (a + b) % 2 != 1\n",
    "    _, result_list, result_forced_stop = initiateClone()\n",
    "    \n",
    "    assert expect(result_list, result_forced_stop)\n",
    "    return \"ok\"\n",
    "\n",
    "test_initiate()"
   ]
  },
  {
   "cell_type": "code",
   "execution_count": null,
   "id": "9f3fde60-6021-4720-b3f3-e52666b439b2",
   "metadata": {},
   "outputs": [],
   "source": [
    "# Main Function\n",
    "def initiate():\n",
    "    \n",
    "    lista = []\n",
    "    while True:\n",
    "        nome = str(input('Digite seu nome: '))\n",
    "        idade = str(input('Digite sua idade: '))\n",
    "        endereco = str(input('Digite seu endereco: '))\n",
    "\n",
    "        lista.append([nome, idade, endereco])\n",
    "\n",
    "        opcao = str(input('x para parar')).lower()\n",
    "        print()\n",
    "                    \n",
    "        if 'x' in opcao:\n",
    "            break\n",
    "    yield lista\n",
    "\n",
    "for i in initiate():\n",
    "    print(i)"
   ]
  }
 ],
 "metadata": {
  "kernelspec": {
   "display_name": "Python 3 (ipykernel)",
   "language": "python",
   "name": "python3"
  },
  "language_info": {
   "codemirror_mode": {
    "name": "ipython",
    "version": 3
   },
   "file_extension": ".py",
   "mimetype": "text/x-python",
   "name": "python",
   "nbconvert_exporter": "python",
   "pygments_lexer": "ipython3",
   "version": "3.10.2"
  }
 },
 "nbformat": 4,
 "nbformat_minor": 5
}
