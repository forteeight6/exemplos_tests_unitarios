{
 "cells": [
  {
   "cell_type": "code",
   "execution_count": 1,
   "id": "7f2da395-24aa-4028-909a-4e267fbeafcb",
   "metadata": {},
   "outputs": [],
   "source": [
    "import logging as log\n",
    "\n",
    "log.basicConfig(level=log.DEBUG)"
   ]
  },
  {
   "cell_type": "code",
   "execution_count": 2,
   "id": "34fb07d5-4e7f-4019-8244-1a81fe8abbf0",
   "metadata": {},
   "outputs": [],
   "source": [
    "class User:\n",
    "    def __init__(self) -> None:\n",
    "        self._email = None\n",
    "        self._credencial = None\n",
    "            \n",
    "    def login(self, email:str) -> None: # testado\n",
    "        self._setter_email(email)\n",
    "        \n",
    "    def password(self, credencial:str) -> None: # testado\n",
    "        self._setter_senha(credencial)\n",
    "\n",
    "    def entry(self) -> bool: \n",
    "        if self._verify(): # testado\n",
    "            log.warning(\"Authorized access\")\n",
    "            return True\n",
    "        else: # testado\n",
    "            log.warning(\"Access denied\")\n",
    "            return False\n",
    "    \n",
    "    def _verify(self) -> bool: \n",
    "        if self._getter_email() and self._getter_senha(): # testado\n",
    "            email = \"example@gmail.com\"\n",
    "            password = \"123456789\"\n",
    "            if self._getter_email() == email and self._getter_senha() == password: # testado\n",
    "                return True\n",
    "            else:\n",
    "                return False # testado\n",
    "        else:\n",
    "            self._aviso()\n",
    "            \n",
    "    def _aviso(self) -> bool:\n",
    "        if self._getter_email(): # testado\n",
    "            log.warning(\"Falta inserir a senha!\")\n",
    "            return 0\n",
    "        elif self._getter_senha(): # testado\n",
    "            log.warning(\"Falta inserir o e-mail!\")\n",
    "            return 1\n",
    "        elif (self._email and self._credencial) is not True: # testado  \n",
    "            log.warning(\"Falta inserir o email e a senha!\")\n",
    "            return 2\n",
    "    \n",
    "    def _setter_email(self, email:str): # testado\n",
    "        self._email = email\n",
    "        log.warning(f\"E-mail {self._email} setado.\")\n",
    "            \n",
    "    def _setter_senha(self, password:str): # testado\n",
    "        self._credencial = password\n",
    "        log.warning(f\"Senha {self._credencial} setado.\")\n",
    "        \n",
    "    def _getter_email(self) -> str: # testado\n",
    "        return self._email\n",
    "    \n",
    "    def _getter_senha(self) -> str: # testado\n",
    "        return self._credencial\n",
    "    "
   ]
  },
  {
   "cell_type": "code",
   "execution_count": null,
   "id": "bba15b14-49f2-4fcd-9360-742fbe7d1927",
   "metadata": {},
   "outputs": [],
   "source": [
    "from faker import Faker\n",
    "# Testing o método login da Classe User\n",
    "fake = Faker()\n",
    "email = fake.name().lower().replace(\" \", \"_\") + \"@gmail.com\""
   ]
  },
  {
   "cell_type": "code",
   "execution_count": 93,
   "id": "1b188ccb-49d1-41c5-9deb-61bbc8df177e",
   "metadata": {},
   "outputs": [
    {
     "name": "stderr",
     "output_type": "stream",
     "text": [
      "WARNING:root:E-mail gary_doyle@gmail.com setado.\n",
      "WARNING:root:gary_doyle@gmail.com\n"
     ]
    }
   ],
   "source": [
    "# Ideia adicionar log no getter and setter,\n",
    "# Com a finalidade de aumentar a segurança do sistema.\n",
    "# Esse log so sera acionado caso essas funções protegidas sejam executadas diretamente.\n",
    "\n",
    "def test_getter_email_in_user(): # entry-str-any-email; expect-str-entry-email\n",
    "    entry = str(email)\n",
    "    expect = entry\n",
    "    usuario = User()\n",
    "    usuario.login(entry)\n",
    "    result = usuario._getter_email()\n",
    "    \n",
    "    log.warning(result)\n",
    "    assert result == expect\n",
    "    \n",
    "test_getter_email_in_user()"
   ]
  },
  {
   "cell_type": "code",
   "execution_count": 110,
   "id": "93e9ac4c-1f8a-463f-af2a-f320b986c203",
   "metadata": {},
   "outputs": [
    {
     "name": "stderr",
     "output_type": "stream",
     "text": [
      "WARNING:root:Senha 241901783 setado.\n",
      "WARNING:root:241901783\n"
     ]
    }
   ],
   "source": [
    "# Ideia adicionar log no getter and setter,\n",
    "# Com a finalidade de aumentar a segurança do sistema.\n",
    "# Esse log so sera acionado caso essas funções protegidas sejam executadas diretamente.\n",
    "\n",
    "def test_getter_senha_in_user(): # entry-str-any-senha; expect-str-entry-senha\n",
    "    entry = str(fake.random_number(digits=fake.random_number(digits=1) + 1))\n",
    "    expect = entry\n",
    "    usuario = User()\n",
    "    usuario.password(entry)\n",
    "    result = usuario._getter_senha()\n",
    "    \n",
    "    log.warning(result)\n",
    "    assert result == expect\n",
    "    \n",
    "test_getter_senha_in_user()"
   ]
  },
  {
   "cell_type": "code",
   "execution_count": 73,
   "id": "6a797122-3e0f-426a-9d77-e6337d2b4364",
   "metadata": {},
   "outputs": [
    {
     "name": "stderr",
     "output_type": "stream",
     "text": [
      "WARNING:root:E-mail gary_doyle@gmail.com setado.\n",
      "WARNING:root:gary_doyle@gmail.com\n"
     ]
    }
   ],
   "source": [
    "def test_setter_email_in_user(): # entry-str-any-email; expect-str-entry-email\n",
    "    entry = str(email)\n",
    "    expect = entry\n",
    "    usuario = User()\n",
    "    usuario._setter_email(entry)\n",
    "    result = usuario._email\n",
    "    \n",
    "    log.warning(result)\n",
    "    assert result == expect\n",
    "    \n",
    "test_setter_email_in_user()"
   ]
  },
  {
   "cell_type": "code",
   "execution_count": 84,
   "id": "9eafd953-cba4-47c1-8675-4b5895eb9f73",
   "metadata": {},
   "outputs": [
    {
     "name": "stderr",
     "output_type": "stream",
     "text": [
      "WARNING:root:Senha 39964 setado.\n",
      "WARNING:root:39964\n"
     ]
    }
   ],
   "source": [
    "def test_setter_senha_in_user(): # entry-str-any-credencial; expect-str-entry-credencial\n",
    "    entry = str(fake.random_number(digits=fake.random_number(digits=1) + 1))\n",
    "    expect = entry\n",
    "    usuario = User()\n",
    "    usuario._setter_senha(entry)\n",
    "    result = usuario._credencial\n",
    "    \n",
    "    log.warning(result)\n",
    "    assert result == expect\n",
    "    \n",
    "test_setter_senha_in_user()"
   ]
  },
  {
   "cell_type": "code",
   "execution_count": 4,
   "id": "e3e6e547-7777-4946-a509-f4775e7766aa",
   "metadata": {},
   "outputs": [],
   "source": [
    "def test_login_in_user(): # entry-str; expect-None\n",
    "    entry = str(email)\n",
    "    expect = None\n",
    "    usuario = User()\n",
    "    result = usuario.login(entry)\n",
    "    log.warning(result)\n",
    "    assert result == expect, \"Error in Result\""
   ]
  },
  {
   "cell_type": "code",
   "execution_count": 5,
   "id": "0231b1ef-2ebf-4b5c-8203-5cea47bcc27c",
   "metadata": {},
   "outputs": [
    {
     "name": "stderr",
     "output_type": "stream",
     "text": [
      "WARNING:root:Senha 54 setado.\n",
      "WARNING:root:None\n"
     ]
    }
   ],
   "source": [
    "def test_password_in_user(): # entry-str; expect-None\n",
    "    entry = str(fake.random_number(digits=fake.random_number(digits=1) + 1))\n",
    "    expect = None\n",
    "    usuario = User()\n",
    "    result = usuario.password(entry)\n",
    "    log.warning(result)\n",
    "    assert result == expect, \"Error in Result\"\n",
    "    \n",
    "test_password_in_user()"
   ]
  },
  {
   "cell_type": "code",
   "execution_count": 6,
   "id": "e09f453f-14cc-4ad1-b3a6-8b8ac98d7728",
   "metadata": {},
   "outputs": [
    {
     "name": "stderr",
     "output_type": "stream",
     "text": [
      "WARNING:root:Falta inserir o email e a senha!\n",
      "WARNING:root:Access denied\n",
      "WARNING:root:False\n"
     ]
    }
   ],
   "source": [
    "def test_entry_in_user(): # Entry-None; expect-False;\n",
    "    expect = False\n",
    "    usuario = User()\n",
    "    result = usuario.entry()\n",
    "    log.warning(result)\n",
    "    assert result == expect\n",
    "    \n",
    "test_entry_in_user()"
   ]
  },
  {
   "cell_type": "code",
   "execution_count": 7,
   "id": "2715fc92-01ae-4184-9497-92611f385a68",
   "metadata": {},
   "outputs": [
    {
     "name": "stderr",
     "output_type": "stream",
     "text": [
      "WARNING:root:E-mail gary_doyle@gmail.com setado.\n",
      "WARNING:root:Falta inserir a senha!\n",
      "WARNING:root:Access denied\n",
      "WARNING:root:False\n"
     ]
    }
   ],
   "source": [
    "def test_entry_in_user(): # Entry-str; expect-False;\n",
    "    entry = str(email)\n",
    "    expect = False\n",
    "    usuario = User()\n",
    "    usuario.login(entry)\n",
    "    result = usuario.entry()\n",
    "    log.warning(result)\n",
    "    assert result == expect\n",
    "\n",
    "test_entry_in_user()"
   ]
  },
  {
   "cell_type": "code",
   "execution_count": 8,
   "id": "83c422da-f086-466e-8bdb-02e51bdf6eed",
   "metadata": {},
   "outputs": [
    {
     "name": "stderr",
     "output_type": "stream",
     "text": [
      "WARNING:root:Senha 7423342986 setado.\n",
      "WARNING:root:Falta inserir o e-mail!\n",
      "WARNING:root:Access denied\n",
      "WARNING:root:False\n"
     ]
    }
   ],
   "source": [
    "def test_entry_in_user(): # Entry-str; expect-False;\n",
    "    entry = str(fake.random_number(digits=fake.random_number(digits=1) + 1))\n",
    "    expect = False\n",
    "    usuario = User()\n",
    "    usuario.password(entry)\n",
    "    result = usuario.entry()\n",
    "    log.warning(result)\n",
    "    assert result == expect\n",
    "\n",
    "test_entry_in_user()"
   ]
  },
  {
   "cell_type": "code",
   "execution_count": 9,
   "id": "30c57fa9-b93a-4b2b-9b44-311ff837d9ce",
   "metadata": {},
   "outputs": [
    {
     "name": "stderr",
     "output_type": "stream",
     "text": [
      "WARNING:root:E-mail teste setado.\n",
      "WARNING:root:Senha teste setado.\n",
      "WARNING:root:Access denied\n",
      "WARNING:root:False\n"
     ]
    }
   ],
   "source": [
    "def test_entry_in_user(): # Entries-str; expect-False;\n",
    "    entry_one = \"teste\"\n",
    "    entry_two = \"teste\"\n",
    "    expect = False\n",
    "    usuario = User()\n",
    "    usuario.login(entry_one)\n",
    "    usuario.password(entry_two)\n",
    "    result = usuario.entry()\n",
    "    log.warning(result)\n",
    "    assert result == expect\n",
    "\n",
    "test_entry_in_user()"
   ]
  },
  {
   "cell_type": "code",
   "execution_count": 10,
   "id": "80f10fce-352f-47e3-a7a9-7c6f4a1999f0",
   "metadata": {},
   "outputs": [
    {
     "name": "stderr",
     "output_type": "stream",
     "text": [
      "WARNING:root:E-mail example@gmail.com setado.\n",
      "WARNING:root:Senha 123456789 setado.\n",
      "WARNING:root:Authorized access\n",
      "WARNING:root:True\n"
     ]
    }
   ],
   "source": [
    "def test_entry_in_user(): # Entries-str; expect-True;\n",
    "    entry_one = \"example@gmail.com\"\n",
    "    entry_two = \"123456789\"\n",
    "    expect = True\n",
    "    usuario = User()\n",
    "    usuario.login(entry_one)\n",
    "    usuario.password(entry_two)\n",
    "    result = usuario.entry()\n",
    "    log.warning(result)\n",
    "    assert result == expect\n",
    "\n",
    "test_entry_in_user()"
   ]
  },
  {
   "cell_type": "code",
   "execution_count": 22,
   "id": "575be69c-d2e8-4d17-96f7-7333a65fd3fe",
   "metadata": {},
   "outputs": [
    {
     "name": "stderr",
     "output_type": "stream",
     "text": [
      "WARNING:root:E-mail example@gmail.com setado.\n",
      "WARNING:root:Senha 123456789 setado.\n",
      "WARNING:root:True\n"
     ]
    }
   ],
   "source": [
    "def test_verify_in_user_is_True():\n",
    "    entry_one = \"example@gmail.com\"\n",
    "    entry_two = \"123456789\"\n",
    "    expect = True\n",
    "    usuario = User()\n",
    "    usuario.login(entry_one)\n",
    "    usuario.password(entry_two)\n",
    "    result = usuario._verify()\n",
    "    \n",
    "    log.warning(result)\n",
    "    assert result == expect\n",
    "    \n",
    "test_verify_in_user_is_True()"
   ]
  },
  {
   "cell_type": "code",
   "execution_count": 65,
   "id": "57a7653b-2ba9-4eeb-b791-3ad91192b9d2",
   "metadata": {},
   "outputs": [
    {
     "name": "stderr",
     "output_type": "stream",
     "text": [
      "WARNING:root:E-mail gary_doyle@gmail.com setado.\n",
      "WARNING:root:Senha 70 setado.\n",
      "WARNING:root:False\n"
     ]
    }
   ],
   "source": [
    "def test_verify_in_user_any_info_is_False(): \n",
    "    entry_one = str(email)\n",
    "    entry_two = str(fake.random_number(digits=fake.random_number(digits=1) + 1))\n",
    "    expect = False\n",
    "    usuario = User()\n",
    "    usuario.login(entry_one)\n",
    "    usuario.password(entry_two)\n",
    "    result = usuario._verify()\n",
    "    \n",
    "    log.warning(result)\n",
    "    assert result == expect\n",
    "    \n",
    "test_verify_in_user_any_info_is_False()"
   ]
  },
  {
   "cell_type": "code",
   "execution_count": 68,
   "id": "835e3763-4f3b-494d-9346-94ec3e19a1ef",
   "metadata": {},
   "outputs": [
    {
     "name": "stderr",
     "output_type": "stream",
     "text": [
      "WARNING:root:E-mail gary_doyle@gmail.com setado.\n",
      "WARNING:root:Falta inserir a senha!\n",
      "WARNING:root:Falta inserir a senha!\n",
      "WARNING:root:0\n"
     ]
    }
   ],
   "source": [
    "def test_aviso_in_user_not_password(): # entry: some email; expect: _aviso return 0\n",
    "    entry = str(email)\n",
    "    expect = 0\n",
    "    usuario = User()\n",
    "    usuario.login(entry)\n",
    "    usuario._verify()\n",
    "    result = usuario._aviso()\n",
    "    \n",
    "    log.warning(result)\n",
    "    assert result == expect\n",
    "    \n",
    "test_aviso_in_user_not_password()"
   ]
  },
  {
   "cell_type": "code",
   "execution_count": 70,
   "id": "53547fec-a2db-4001-b261-d830aa6c3b7f",
   "metadata": {},
   "outputs": [
    {
     "name": "stderr",
     "output_type": "stream",
     "text": [
      "WARNING:root:Senha 66481342 setado.\n",
      "WARNING:root:Falta inserir o e-mail!\n",
      "WARNING:root:Falta inserir o e-mail!\n",
      "WARNING:root:1\n"
     ]
    }
   ],
   "source": [
    "def test_aviso_in_user_not_email(): # entry: some password; expect: _aviso return 1\n",
    "    entry = str(fake.random_number(digits=fake.random_number(digits=1) + 1))\n",
    "    expect = 1\n",
    "    usuario = User()\n",
    "    usuario.password(entry)\n",
    "    usuario._verify()\n",
    "    result = usuario._aviso()\n",
    "    \n",
    "    log.warning(result)\n",
    "    assert result == expect\n",
    "    \n",
    "test_aviso_in_user_not_email()"
   ]
  },
  {
   "cell_type": "code",
   "execution_count": 71,
   "id": "c4212a5b-d8f8-4f4d-be47-54f4430062d8",
   "metadata": {},
   "outputs": [
    {
     "name": "stderr",
     "output_type": "stream",
     "text": [
      "WARNING:root:Falta inserir o email e a senha!\n",
      "WARNING:root:Falta inserir o email e a senha!\n",
      "WARNING:root:2\n"
     ]
    }
   ],
   "source": [
    "def test_aviso_in_user_not_email(): # entry: None; expect: _aviso return 2\n",
    "    expect = 2\n",
    "    usuario = User()\n",
    "    usuario._verify()\n",
    "    result = usuario._aviso()\n",
    "    \n",
    "    log.warning(result)\n",
    "    assert result == expect\n",
    "    \n",
    "test_aviso_in_user_not_email()"
   ]
  },
  {
   "cell_type": "code",
   "execution_count": 11,
   "id": "6d88f200-4c25-4953-933a-5dd5c1cdd152",
   "metadata": {},
   "outputs": [
    {
     "name": "stderr",
     "output_type": "stream",
     "text": [
      "WARNING:root:E-mail example@gmail.com setado.\n",
      "WARNING:root:Senha 123456789 setado.\n",
      "WARNING:root:Authorized access\n"
     ]
    },
    {
     "data": {
      "text/plain": [
       "True"
      ]
     },
     "execution_count": 11,
     "metadata": {},
     "output_type": "execute_result"
    }
   ],
   "source": [
    "# Depuração\n",
    "usuario = User()\n",
    "usuario.login(\"example@gmail.com\")\n",
    "usuario.password(\"123456789\")\n",
    "usuario.entry()"
   ]
  }
 ],
 "metadata": {
  "kernelspec": {
   "display_name": "Python 3 (ipykernel)",
   "language": "python",
   "name": "python3"
  },
  "language_info": {
   "codemirror_mode": {
    "name": "ipython",
    "version": 3
   },
   "file_extension": ".py",
   "mimetype": "text/x-python",
   "name": "python",
   "nbconvert_exporter": "python",
   "pygments_lexer": "ipython3",
   "version": "3.10.2"
  }
 },
 "nbformat": 4,
 "nbformat_minor": 5
}
